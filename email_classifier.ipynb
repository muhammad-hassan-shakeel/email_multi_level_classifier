{
 "cells": [
  {
   "cell_type": "code",
   "execution_count": null,
   "metadata": {},
   "outputs": [],
   "source": [
    "import numpy as np\n",
    "import pandas as pd"
   ]
  },
  {
   "cell_type": "code",
   "execution_count": null,
   "metadata": {},
   "outputs": [],
   "source": [
    "df = pd.read_csv(\"AppGallery.csv\")\n",
    "\n",
    "# convert the dtype object to unicode string\n",
    "df['Interaction content'] = df['Interaction content'].values.astype('U')\n",
    "df['Ticket Summary'] = df['Ticket Summary'].values.astype('U')\n",
    "\n",
    "#Optional: rename variable names for remebering easily\n",
    "df[\"y1\"] = df[\"Type 1\"]\n",
    "df[\"y2\"] = df[\"Type 2\"]\n",
    "df[\"y3\"] = df[\"Type 3\"]\n",
    "df[\"y4\"] = df[\"Type 4\"]\n",
    "df[\"x\"] = df['Interaction content']\n",
    "\n",
    "df[\"y\"] = df[\"y2\"]\n",
    "\n",
    "# remove empty y\n",
    "df = df.loc[(df[\"y\"] != '') & (~df[\"y\"].isna()),]\n",
    "df.shape\n",
    "\n",
    "print(df.shape)"
   ]
  },
  {
   "cell_type": "code",
   "execution_count": null,
   "metadata": {},
   "outputs": [],
   "source": [
    "from sklearn.ensemble import RandomForestClassifier\n",
    "\n",
    "classifier = RandomForestClassifier(n_estimators=1000, random_state=0)"
   ]
  },
  {
   "cell_type": "code",
   "execution_count": null,
   "metadata": {},
   "outputs": [],
   "source": []
  }
 ],
 "metadata": {
  "language_info": {
   "name": "python"
  }
 },
 "nbformat": 4,
 "nbformat_minor": 2
}
