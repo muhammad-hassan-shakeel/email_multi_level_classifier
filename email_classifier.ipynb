{
 "cells": [
  {
   "cell_type": "code",
   "execution_count": null,
   "metadata": {},
   "outputs": [],
   "source": [
    "import numpy as np\n",
    "import pandas as pd"
   ]
  },
  {
   "cell_type": "code",
   "execution_count": null,
   "metadata": {},
   "outputs": [],
   "source": [
    "df = pd.read_csv(\"AppGallery.csv\")\n",
    "\n",
    "# convert the dtype object to unicode string\n",
    "df['Interaction content'] = df['Interaction content'].values.astype('U')\n",
    "df['Ticket Summary'] = df['Ticket Summary'].values.astype('U')\n",
    "\n",
    "#Optional: rename variable names for remebering easily\n",
    "df[\"y1\"] = df[\"Type 1\"]\n",
    "df[\"y2\"] = df[\"Type 2\"]\n",
    "df[\"y3\"] = df[\"Type 3\"]\n",
    "df[\"y4\"] = df[\"Type 4\"]\n",
    "df[\"x\"] = df['Interaction content']\n",
    "\n",
    "df[\"y\"] = df[\"y2\"]\n",
    "\n",
    "# remove empty y\n",
    "df = df.loc[(df[\"y\"] != '') & (~df[\"y\"].isna()),]\n",
    "df.shape\n",
    "\n",
    "print(df.shape)"
   ]
  },
  {
   "cell_type": "code",
   "execution_count": null,
   "metadata": {},
   "outputs": [],
   "source": [
    "from sklearn.ensemble import RandomForestClassifier\n",
    "\n",
    "classifier = RandomForestClassifier(n_estimators=1000, random_state=0)"
   ]
  },
  {
   "cell_type": "code",
   "execution_count": null,
   "metadata": {},
   "outputs": [],
   "source": [
    "temp = df\n",
    "# remove re:\n",
    "# remove extrac white space\n",
    "# remove\n",
    "noise = \"(sv\\s*:)|(wg\\s*:)|(ynt\\s*:)|(fw(d)?\\s*:)|(r\\s*:)|(re\\s*:)|(\\[|\\])|(aspiegel support issue submit)|(null)|(nan)|((bonus place my )?support.pt 自动回复:)\"\n",
    "temp[\"ts\"] = temp[\"Ticket Summary\"].str.lower().replace(noise, \" \", regex=True).replace(r'\\s+', ' ',\n",
    "                                                                                        regex=True).str.strip()\n",
    "temp_debug = temp.loc[:, [\"Ticket Summary\", \"ts\", \"y\"]]\n",
    "\n",
    "temp[\"ic\"] = temp[\"Interaction content\"].str.lower()\n",
    "noise_1 = [\n",
    "    \"(from :)|(subject :)|(sent :)|(r\\s*:)|(re\\s*:)\",\n",
    "    \"(january|february|march|april|may|june|july|august|september|october|november|december)\",\n",
    "    \"(jan|feb|mar|apr|may|jun|jul|aug|sep|oct|nov|dec)\",\n",
    "    \"(monday|tuesday|wednesday|thursday|friday|saturday|sunday)\",\n",
    "    \"\\d{2}(:|.)\\d{2}\",\n",
    "    \"(xxxxx@xxxx\\.com)|(\\*{5}\\([a-z]+\\))\",\n",
    "    \"dear ((customer)|(user))\",\n",
    "    \"dear\",\n",
    "    \"(hello)|(hallo)|(hi )|(hi there)\",\n",
    "    \"good morning\",\n",
    "    \"thank you for your patience ((during (our)? investigation)|(and cooperation))?\",\n",
    "    \"thank you for contacting us\",\n",
    "    \"thank you for your availability\",\n",
    "    \"thank you for providing us this information\",\n",
    "    \"thank you for contacting\",\n",
    "    \"thank you for reaching us (back)?\",\n",
    "    \"thank you for patience\",\n",
    "    \"thank you for (your)? reply\",\n",
    "    \"thank you for (your)? response\",\n",
    "    \"thank you for (your)? cooperation\",\n",
    "    \"thank you for providing us with more information\",\n",
    "    \"thank you very kindly\",\n",
    "    \"thank you( very much)?\",\n",
    "    \"i would like to follow up on the case you raised on the date\",\n",
    "    \"i will do my very best to assist you\"\n",
    "    \"in order to give you the best solution\",\n",
    "    \"could you please clarify your request with following information:\"\n",
    "    \"in this matter\",\n",
    "    \"we hope you(( are)|('re)) doing ((fine)|(well))\",\n",
    "    \"i would like to follow up on the case you raised on\",\n",
    "    \"we apologize for the inconvenience\",\n",
    "    \"sent from my huawei (cell )?phone\",\n",
    "    \"original message\",\n",
    "    \"customer support team\",\n",
    "    \"(aspiegel )?se is a company incorporated under the laws of ireland with its headquarters in dublin, ireland.\",\n",
    "    \"(aspiegel )?se is the provider of huawei mobile services to huawei and honor device owners in\",\n",
    "    \"canada, australia, new zealand and other countries\",\n",
    "    \"\\d+\",\n",
    "    \"[^0-9a-zA-Z]+\",\n",
    "    \"(\\s|^).(\\s|$)\"]\n",
    "for noise in noise_1:\n",
    "    print(noise)\n",
    "    temp[\"ic\"] = temp[\"ic\"].replace(noise, \" \", regex=True)\n",
    "temp[\"ic\"] = temp[\"ic\"].replace(r'\\s+', ' ', regex=True).str.strip()\n",
    "temp_debug = temp.loc[:, [\"Interaction content\", \"ic\", \"y\"]]\n",
    "\n",
    "print(temp.y1.value_counts())\n",
    "good_y1 = temp.y1.value_counts()[temp.y1.value_counts() > 10].index\n",
    "temp = temp.loc[temp.y1.isin(good_y1)]\n",
    "print(temp.shape)"
   ]
  },
  {
   "cell_type": "code",
   "execution_count": null,
   "metadata": {},
   "outputs": [],
   "source": [
    "from sklearn.metrics import classification_report, confusion_matrix, accuracy_score\n",
    "\n",
    "y_pred = classifier.predict(X_test)\n",
    "\n",
    "p_result = pd.DataFrame(classifier.predict_proba(X_test))\n",
    "p_result.columns = classifier.classes_\n",
    "print(p_result)\n",
    "print(confusion_matrix(y_test, y_pred))\n",
    "print(classification_report(y_test, y_pred))"
   ]
  },
  {
   "cell_type": "code",
   "execution_count": null,
   "metadata": {},
   "outputs": [],
   "source": [
    "classifier.fit(X_train, y_train)"
   ]
  }
 ],
 "metadata": {
  "language_info": {
   "name": "python"
  }
 },
 "nbformat": 4,
 "nbformat_minor": 2
}
